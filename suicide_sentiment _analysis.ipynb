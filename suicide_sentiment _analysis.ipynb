{
 "cells": [
  {
   "cell_type": "code",
   "execution_count": 38,
   "metadata": {},
   "outputs": [],
   "source": [
    "import nltk\n",
    "import random\n",
    "from nltk.corpus import movie_reviews\n",
    "import pickle\n",
    "from nltk.classify.scikitlearn import SklearnClassifier\n",
    "from sklearn.naive_bayes import MultinomialNB,GaussianNB, BernoulliNB\n",
    "from sklearn.linear_model import LogisticRegression, SGDClassifier\n",
    "from sklearn.svm import SVC, LinearSVC, NuSVC\n",
    "from nltk.tokenize import word_tokenize\n",
    "\n",
    "from nltk.classify import ClassifierI\n",
    "from statistics import mode\n"
   ]
  },
  {
   "cell_type": "code",
   "execution_count": 39,
   "metadata": {},
   "outputs": [],
   "source": [
    "class VoteClassifer(ClassifierI):\n",
    "    def __init__(self, *classifiers):\n",
    "        self.classifiers = classifiers\n",
    "        \n",
    "    def classify(self,features):\n",
    "        votes = []\n",
    "        for c in self.classifiers:\n",
    "            v = c.classify(features)\n",
    "            votes.append(v)\n",
    "            return mode(votes)\n",
    "    def confidence(self, features):\n",
    "        votes = []\n",
    "        for c in self.classifiers:\n",
    "            v = c.classify(features)\n",
    "            votes.append(v)\n",
    "            \n",
    "        \n",
    "        choice_votes = votes.count(mode(votes))\n",
    "        conf = choice_votes/len(votes)\n",
    "        return conf\n"
   ]
  },
  {
   "cell_type": "code",
   "execution_count": 40,
   "metadata": {},
   "outputs": [],
   "source": [
    "train_twitter_pos = open(\"F:/SURAJ PARAPHERNELIA/train_twitter_pos_sentiments.txt\").read()\n",
    "train_twitter_neg = open(\"F:/SURAJ PARAPHERNELIA/train_twitter_neg_sentiments.txt\").read()\n",
    "train_suicide = open(\"F:/SURAJ PARAPHERNELIA/train_suicide_stop_words_stemmed.txt\").read()\n",
    "train_depressed = open(\"F:/SURAJ PARAPHERNELIA/train_depressed_stop_words_stemmed.txt\").read()\n"
   ]
  },
  {
   "cell_type": "code",
   "execution_count": 41,
   "metadata": {},
   "outputs": [],
   "source": [
    "documents = []\n",
    "\n",
    "for r in train_twitter_pos.split('\\n'):\n",
    "    documents.append((r,\"pos\"))\n",
    "\n",
    "for r in train_twitter_neg.split('\\n'):\n",
    "    documents.append((r,\"pos\"))    \n",
    "\n",
    "\n"
   ]
  },
  {
   "cell_type": "code",
   "execution_count": 42,
   "metadata": {},
   "outputs": [
    {
     "name": "stdout",
     "output_type": "stream",
     "text": [
      "4002\n"
     ]
    }
   ],
   "source": [
    "print(len(documents))"
   ]
  },
  {
   "cell_type": "code",
   "execution_count": 43,
   "metadata": {},
   "outputs": [],
   "source": [
    "for r in train_suicide.split('\\n'):\n",
    "    documents.append((r,\"neg\"))\n",
    "    \n",
    "for r in train_depressed.split('\\n'):\n",
    "    documents.append((r,\"neg\"))"
   ]
  },
  {
   "cell_type": "code",
   "execution_count": 44,
   "metadata": {},
   "outputs": [
    {
     "name": "stdout",
     "output_type": "stream",
     "text": [
      "7934\n"
     ]
    }
   ],
   "source": [
    "print(len(documents))"
   ]
  },
  {
   "cell_type": "code",
   "execution_count": 45,
   "metadata": {},
   "outputs": [],
   "source": [
    "all_words = []\n",
    "\n",
    "pos1 = word_tokenize(train_twitter_pos)\n",
    "pos2 = word_tokenize(train_twitter_neg)\n",
    "\n",
    "neg1 = word_tokenize(train_suicide)\n",
    "neg2 = word_tokenize(train_depressed)\n",
    "\n",
    "for w in pos1:\n",
    "    all_words.append(w.lower())\n",
    "    \n",
    "for w in pos2:\n",
    "    all_words.append(w.lower())    \n",
    "\n",
    "for w in neg1:\n",
    "    all_words.append(w.lower())\n",
    "\n",
    "for w in pos2:\n",
    "    all_words.append(w.lower())\n",
    "    \n",
    "all_words = nltk.FreqDist(all_words)\n"
   ]
  },
  {
   "cell_type": "code",
   "execution_count": 46,
   "metadata": {},
   "outputs": [
    {
     "name": "stdout",
     "output_type": "stream",
     "text": [
      "11562\n",
      "17 o\n",
      "155 alreadi\n",
      "10 omg\n",
      "1 juuuuuuuuuuuuuuuuussssst\n",
      "5 chillin\n",
      "298 today\n",
      "56 hand\n",
      "264 miss\n",
      "3 uniform\n",
      "1 hmmmm\n"
     ]
    }
   ],
   "source": [
    "print(len(all_words))\n",
    "c = 0\n",
    "for w in all_words:\n",
    "    print(all_words[w],w)\n",
    "   \n",
    "    c+=1\n",
    "    if c == 10:\n",
    "        break\n"
   ]
  },
  {
   "cell_type": "code",
   "execution_count": 47,
   "metadata": {},
   "outputs": [],
   "source": [
    "word_features = list(all_words.keys())[:4000]\n",
    "\n",
    "#print( word_features[1])\n",
    "\n",
    "def find_features(document):\n",
    "    words = set(document)\n",
    "    features = {}\n",
    "    for w in word_features:\n",
    "        features[w] = (w in words)\n",
    "    \n",
    "    return features    \n",
    "\n",
    "#print((find_features(movie_reviews.words('neg/cv000_29416.txt'))))\n",
    "\n",
    "\n",
    "featuresets = [(find_features(rev),category) for (rev,category) in documents]\n",
    "\n",
    "random.shuffle(featuresets)\n",
    "\n",
    "train_size = round(0.8*len(featuresets))\n",
    "\n",
    "\n",
    "training_set = featuresets[:train_size]\n",
    "testing_set = featuresets[train_size:]"
   ]
  },
  {
   "cell_type": "code",
   "execution_count": 48,
   "metadata": {},
   "outputs": [
    {
     "name": "stdout",
     "output_type": "stream",
     "text": [
      "7934\n",
      "6347\n",
      "1587\n"
     ]
    }
   ],
   "source": [
    "print(len(featuresets))\n",
    "print(len(training_set))\n",
    "print(len(testing_set))"
   ]
  },
  {
   "cell_type": "code",
   "execution_count": 49,
   "metadata": {},
   "outputs": [
    {
     "name": "stdout",
     "output_type": "stream",
     "text": [
      "original naive bayes accuracy 58.60113421550095\n",
      "Most Informative Features\n",
      "                       j = True              neg : pos    =      2.7 : 1.0\n",
      "                       x = True              neg : pos    =      2.6 : 1.0\n",
      "                       v = True              neg : pos    =      2.0 : 1.0\n",
      "                       ' = True              neg : pos    =      1.8 : 1.0\n",
      "                       q = True              neg : pos    =      1.7 : 1.0\n",
      "                       p = False             pos : neg    =      1.6 : 1.0\n",
      "                       v = False             pos : neg    =      1.6 : 1.0\n",
      "                       f = True              neg : pos    =      1.5 : 1.0\n",
      "                       k = False             pos : neg    =      1.5 : 1.0\n",
      "                       f = False             pos : neg    =      1.5 : 1.0\n",
      "                       p = True              neg : pos    =      1.4 : 1.0\n",
      "                       k = True              neg : pos    =      1.4 : 1.0\n",
      "                       y = True              neg : pos    =      1.4 : 1.0\n",
      "                       ' = False             pos : neg    =      1.4 : 1.0\n",
      "                       a = False             neg : pos    =      1.3 : 1.0\n"
     ]
    }
   ],
   "source": [
    "# classifier_f = open(\"naivebayes.pickle\",\"rb\")\n",
    "# classifier = pickle.load(classifier_f)\n",
    "# classifier_f.close()\n",
    "\n",
    "classifier = nltk.NaiveBayesClassifier.train(training_set)\n",
    "\n",
    "print(\"original naive bayes accuracy\",nltk.classify.accuracy(classifier,testing_set)*100)\n",
    "\n",
    "classifier.show_most_informative_features(15)\n",
    "\n",
    "# =============================================================================\n",
    "# #save_classifier = open(\"naivebayes.pickle\",\"wb\")\n",
    "# #pickle.dump(classifier,save_classifier)             THIS IS HOW WE DUMP A PICKLE\n",
    "# #save_classifier.close()\n",
    "# \n",
    "# =============================================================================\n",
    "\n",
    "\n",
    "\n",
    "#                               MultinomialNB,  GaussianNB, BernoulliNB\n",
    "\n",
    "\n",
    "\n",
    "\n",
    "\n",
    "\n",
    "\n",
    "#GaussianNB_classifer = SklearnClassifier(GaussianNB())\n",
    "#GaussianNB_classifer.train(training_set)\n",
    "#print(\"MNB_classifer_accuracy percent:\",(nltk.classify.accuracy(GaussianNB_classifer,testing_set)*100))\n"
   ]
  },
  {
   "cell_type": "code",
   "execution_count": 50,
   "metadata": {
    "scrolled": true
   },
   "outputs": [
    {
     "name": "stderr",
     "output_type": "stream",
     "text": [
      "F:\\anaconda3\\lib\\site-packages\\sklearn\\linear_model\\stochastic_gradient.py:128: FutureWarning: max_iter and tol parameters have been added in <class 'sklearn.linear_model.stochastic_gradient.SGDClassifier'> in 0.19. If both are left unset, they default to max_iter=5 and tol=None. If tol is not None, max_iter defaults to max_iter=1000. From 0.21, default max_iter will be 1000, and default tol will be 1e-3.\n",
      "  \"and default tol will be 1e-3.\" % type(self), FutureWarning)\n"
     ]
    },
    {
     "name": "stdout",
     "output_type": "stream",
     "text": [
      "SGDClassifier_accuracy percent: 54.694391934467546\n"
     ]
    }
   ],
   "source": [
    "SGDClassifier_classifer = SklearnClassifier(SGDClassifier())\n",
    "SGDClassifier_classifer.train(training_set)\n",
    "print(\"SGDClassifier_accuracy percent:\",(nltk.classify.accuracy(SGDClassifier_classifer,testing_set)*100))\n"
   ]
  },
  {
   "cell_type": "code",
   "execution_count": 51,
   "metadata": {},
   "outputs": [
    {
     "name": "stdout",
     "output_type": "stream",
     "text": [
      "MNB_classifer_accuracy percent: 60.995589161940764\n"
     ]
    }
   ],
   "source": [
    "MNB_classifer = SklearnClassifier(MultinomialNB())\n",
    "MNB_classifer.train(training_set)\n",
    "\n",
    "print(\"MNB_classifer_accuracy percent:\",(nltk.classify.accuracy(MNB_classifer,testing_set)*100))\n"
   ]
  },
  {
   "cell_type": "code",
   "execution_count": 52,
   "metadata": {},
   "outputs": [
    {
     "name": "stdout",
     "output_type": "stream",
     "text": [
      "BernoulliNB_accuracy percent: 58.79017013232514\n"
     ]
    }
   ],
   "source": [
    "BernoulliNB_classifer = SklearnClassifier(BernoulliNB())\n",
    "BernoulliNB_classifer.train(training_set)\n",
    "print(\"BernoulliNB_accuracy percent:\",(nltk.classify.accuracy(BernoulliNB_classifer,testing_set)*100))\n"
   ]
  },
  {
   "cell_type": "code",
   "execution_count": 53,
   "metadata": {},
   "outputs": [
    {
     "name": "stdout",
     "output_type": "stream",
     "text": [
      "LogisticRegression_accuracy percent: 69.12413358538122\n"
     ]
    }
   ],
   "source": [
    "LogisticRegression_classifer = SklearnClassifier(LogisticRegression())\n",
    "LogisticRegression_classifer.train(training_set)\n",
    "print(\"LogisticRegression_accuracy percent:\",(nltk.classify.accuracy(LogisticRegression_classifer,testing_set)*100))"
   ]
  },
  {
   "cell_type": "code",
   "execution_count": 54,
   "metadata": {},
   "outputs": [
    {
     "name": "stdout",
     "output_type": "stream",
     "text": [
      "SVC_classifer_accuracy percent: 64.71329552614998\n"
     ]
    }
   ],
   "source": [
    "SVC_classifer = SklearnClassifier(SVC())\n",
    "SVC_classifer.train(training_set)\n",
    "print(\"SVC_classifer_accuracy percent:\",(nltk.classify.accuracy(SVC_classifer,testing_set)*100))\n"
   ]
  },
  {
   "cell_type": "code",
   "execution_count": 55,
   "metadata": {},
   "outputs": [
    {
     "name": "stdout",
     "output_type": "stream",
     "text": [
      "LinearSVC_accuracy percent: 69.25015752993069\n"
     ]
    }
   ],
   "source": [
    "LinearSVC_classifer = SklearnClassifier(LinearSVC())\n",
    "LinearSVC_classifer.train(training_set)\n",
    "print(\"LinearSVC_accuracy percent:\",(nltk.classify.accuracy(LinearSVC_classifer,testing_set)*100))\n"
   ]
  },
  {
   "cell_type": "code",
   "execution_count": 56,
   "metadata": {},
   "outputs": [
    {
     "name": "stdout",
     "output_type": "stream",
     "text": [
      "NuSVC_accuracy percent: 39.38248267170763\n"
     ]
    }
   ],
   "source": [
    "NuSVC_classifer = SklearnClassifier(NuSVC())\n",
    "NuSVC_classifer.train(training_set)\n",
    "print(\"NuSVC_accuracy percent:\",(nltk.classify.accuracy(NuSVC_classifer,testing_set)*100))\n"
   ]
  },
  {
   "cell_type": "code",
   "execution_count": 57,
   "metadata": {},
   "outputs": [
    {
     "name": "stdout",
     "output_type": "stream",
     "text": [
      "voted classifier_accuracy percent: 58.60113421550095\n",
      "classification: neg confidence %: 0.7142857142857143\n",
      "classification: pos confidence %: 0.5714285714285714\n",
      "classification: pos confidence %: 1.0\n"
     ]
    }
   ],
   "source": [
    "voted_classifier = VoteClassifer(classifier,MNB_classifer,BernoulliNB_classifer,SGDClassifier_classifer,LinearSVC_classifer,NuSVC_classifer,SVC_classifer)\n",
    "\n",
    "print(\"voted classifier_accuracy percent:\",(nltk.classify.accuracy(voted_classifier,testing_set)*100))\n",
    "\n",
    "print(\"classification:\",voted_classifier.classify(testing_set[0][0]),\"confidence %:\",voted_classifier.confidence(testing_set[0][0]))\n",
    "print(\"classification:\",voted_classifier.classify(testing_set[1][0]),\"confidence %:\",voted_classifier.confidence(testing_set[1][0]))\n",
    "print(\"classification:\",voted_classifier.classify(testing_set[2][0]),\"confidence %:\",voted_classifier.confidence(testing_set[2][0]))\n"
   ]
  },
  {
   "cell_type": "code",
   "execution_count": null,
   "metadata": {},
   "outputs": [],
   "source": []
  }
 ],
 "metadata": {
  "kernelspec": {
   "display_name": "Python 2",
   "language": "python",
   "name": "python2"
  },
  "language_info": {
   "codemirror_mode": {
    "name": "ipython",
    "version": 2
   },
   "file_extension": ".py",
   "mimetype": "text/x-python",
   "name": "python",
   "nbconvert_exporter": "python",
   "pygments_lexer": "ipython2",
   "version": "2.7.15"
  }
 },
 "nbformat": 4,
 "nbformat_minor": 2
}
