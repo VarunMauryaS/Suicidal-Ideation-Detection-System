{
 "cells": [
  {
   "cell_type": "code",
   "execution_count": 157,
   "metadata": {},
   "outputs": [],
   "source": [
    "import csv\n",
    "combined_pos = []\n",
    "combined_neg = []\n",
    "tweet_pos = []\n",
    "tweet_neg = []\n",
    "with open('C:\\\\Users\\\\SURAJ PRAKASH\\\\Desktop\\\\ml courses\\\\train.csv') as csvfile:\n",
    "    readCSV = csv.reader(csvfile, delimiter = ',')\n",
    "    tweets = []\n",
    "    labels = []\n",
    "    for row in readCSV:\n",
    "        tweet = row[2]\n",
    "        label = row[1]\n",
    "        if label == \"1\":\n",
    "            combined_pos.append((tweet,label))\n",
    "            tweet_pos.append(tweet)\n",
    "        elif label == \"0\":\n",
    "            combined_neg.append((tweet,label))\n",
    "            tweet_neg.append(tweet)\n",
    "#         tweets.append(tweet)\n",
    "#         labels.append(label)\n",
    "\n",
    "\n"
   ]
  },
  {
   "cell_type": "code",
   "execution_count": 158,
   "metadata": {},
   "outputs": [
    {
     "name": "stdout",
     "output_type": "stream",
     "text": [
      "56457\n",
      "43532\n"
     ]
    }
   ],
   "source": [
    "print(len(tweet_pos))\n",
    "print(len(tweet_neg))"
   ]
  },
  {
   "cell_type": "code",
   "execution_count": 159,
   "metadata": {},
   "outputs": [
    {
     "name": "stdout",
     "output_type": "stream",
     "text": [
      "56457\n"
     ]
    }
   ],
   "source": [
    "whitelist = set('abcdefghijklmnopqrstuvwxy ABCDEFGHIJKLMNOPQRSTUVWXYZ\\'')\n",
    "import re\n",
    "sep = 'http'\n",
    "\n",
    "from nltk.tokenize import  word_tokenize\n",
    "from nltk.corpus import stopwords\n",
    "stop_words =  set(stopwords.words(\"english\"))\n",
    "\n",
    "\n",
    "from nltk.stem import PorterStemmer\n",
    "ps = PorterStemmer()\n",
    "\n",
    "c = len(tweet_pos)\n",
    "print(c)\n",
    "for i in range(0, 2000):\n",
    "    \n",
    "    tweet_pos[i] = \" \".join(filter(lambda x:x[0]!='@', tweet_pos[i].split()))# removes words starting with @\n",
    "    \n",
    "      \n",
    "    tweet_pos[i] = ''.join(filter(whitelist.__contains__, tweet_pos[i])) # only keeps characters stored in whitlist\n",
    "    tweet_pos[i]  = re.sub(' +',' ',tweet_pos[i])  # removes miultiple spaces\n",
    "    \n",
    "\n",
    "    tweet_pos[i] = tweet_pos[i].split(sep, 1)[0]# removes string after http\n",
    "    \n",
    "    \n",
    "    words = word_tokenize(tweet_pos[i])\n",
    "    filtered_sentence = []\n",
    "    for w in words:\n",
    "        if w not in stop_words:\n",
    "            filtered_sentence.append(w)\n",
    "    \n",
    "    \n",
    "    stemmed_sentence = []\n",
    "    for w in filtered_sentence:\n",
    "            k = ps.stem(w) \n",
    "            stemmed_sentence.append(k)\n",
    "    \n",
    "    stemmed_sentence = set(stemmed_sentence)\n",
    "    \n",
    "    final_string = \"\"    \n",
    "    for w in stemmed_sentence:\n",
    "        final_string+=w\n",
    "        final_string+=\" \"\n",
    "        \n",
    "    \n",
    "    tweet_pos[i] = final_string\n"
   ]
  },
  {
   "cell_type": "code",
   "execution_count": 160,
   "metadata": {},
   "outputs": [
    {
     "name": "stdout",
     "output_type": "stream",
     "text": [
      "43532\n"
     ]
    }
   ],
   "source": [
    "c = len(tweet_neg)\n",
    "print(c)\n",
    "for i in range(0, 2000):\n",
    "    tweet_neg[i] = \" \".join(filter(lambda x:x[0]!='@', tweet_neg[i].split()))# removes words starting with @\n",
    "    \n",
    "      \n",
    "    tweet_neg[i] = ''.join(filter(whitelist.__contains__, tweet_neg[i])) # only keeps characters stored in whitlist\n",
    "    tweet_neg[i]  = re.sub(' +',' ',tweet_neg[i])  # removes miultiple spaces\n",
    "    \n",
    "\n",
    "    tweet_neg[i] = tweet_neg[i].split(sep, 1)[0]# removes string after http\n",
    "    \n",
    "    \n",
    "    \n",
    "    words = word_tokenize(tweet_neg[i])\n",
    "    filtered_sentence = []\n",
    "    for w in words:\n",
    "        if w not in stop_words:\n",
    "            filtered_sentence.append(w)\n",
    "    \n",
    "    \n",
    "    stemmed_sentence = []\n",
    "    for w in filtered_sentence:\n",
    "            k = ps.stem(w) \n",
    "            stemmed_sentence.append(k)\n",
    "    \n",
    "    stemmed_sentence = set(stemmed_sentence)\n",
    "    \n",
    "    final_string = \"\"    \n",
    "    for w in stemmed_sentence:\n",
    "        final_string+=w\n",
    "        final_string+=\" \"\n",
    "        \n",
    "    \n",
    "    tweet_neg[i] = final_string"
   ]
  },
  {
   "cell_type": "code",
   "execution_count": 164,
   "metadata": {},
   "outputs": [
    {
     "name": "stdout",
     "output_type": "stream",
     "text": [
      "1200.0\n"
     ]
    }
   ],
   "source": [
    "thefile = open('F:\\\\SURAJ PARAPHERNELIA\\\\train_twitter_pos_sentiments.txt', 'w')\n",
    "thefilee =open('F:\\\\SURAJ PARAPHERNELIA\\\\test_twitter_pos_sentiments.txt', 'w') \n",
    "# i = 0\n",
    "train_size = 0.6*2000\n",
    "print(train_size)\n",
    "\n",
    "for i in range(0,round(train_size)):\n",
    "       thefile.write(tweet_pos[i]+\"\\n\")\n",
    "\n",
    "for i in range(round(train_size),2000):\n",
    "       thefilee.write(tweet_pos[i]+\"\\n\")\n",
    "# for item in tweet_pos:\n",
    "#         thefile.write(\"%s\\n\" % item)\n",
    "thefile.close()\n",
    "thefilee.close()            "
   ]
  },
  {
   "cell_type": "code",
   "execution_count": null,
   "metadata": {},
   "outputs": [],
   "source": []
  },
  {
   "cell_type": "code",
   "execution_count": 165,
   "metadata": {},
   "outputs": [
    {
     "name": "stdout",
     "output_type": "stream",
     "text": [
      "1200.0\n"
     ]
    }
   ],
   "source": [
    "thefile = open('F:\\\\SURAJ PARAPHERNELIA\\\\train_twitter_neg_sentiments.txt', 'w')\n",
    "thefilee =open('F:\\\\SURAJ PARAPHERNELIA\\\\test_twitter_neg_sentiments.txt', 'w') \n",
    "# i = 0\n",
    "\n",
    "print(train_size)\n",
    "\n",
    "for i in range(0,round(train_size)):\n",
    "       thefile.write(tweet_neg[i]+\"\\n\")\n",
    "\n",
    "for i in range(round(train_size),2000):\n",
    "       thefilee.write(tweet_neg[i]+\"\\n\")\n",
    "# for item in tweet_pos:\n",
    "#         thefile.write(\"%s\\n\" % item)\n",
    "thefile.close()\n",
    "thefilee.close()        "
   ]
  },
  {
   "cell_type": "code",
   "execution_count": 166,
   "metadata": {},
   "outputs": [
    {
     "name": "stdout",
     "output_type": "stream",
     "text": [
      "apl friend sad \n"
     ]
    }
   ],
   "source": [
    "print(tweet_neg[0])    "
   ]
  },
  {
   "cell_type": "code",
   "execution_count": null,
   "metadata": {},
   "outputs": [],
   "source": []
  }
 ],
 "metadata": {
  "kernelspec": {
   "display_name": "Python 2",
   "language": "python",
   "name": "python2"
  },
  "language_info": {
   "codemirror_mode": {
    "name": "ipython",
    "version": 2
   },
   "file_extension": ".py",
   "mimetype": "text/x-python",
   "name": "python",
   "nbconvert_exporter": "python",
   "pygments_lexer": "ipython2",
   "version": "2.7.15"
  }
 },
 "nbformat": 4,
 "nbformat_minor": 2
}
